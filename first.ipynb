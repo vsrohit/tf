{
  "nbformat": 4,
  "nbformat_minor": 0,
  "metadata": {
    "colab": {
      "name": "first.ipynb",
      "provenance": [],
      "collapsed_sections": [],
      "authorship_tag": "ABX9TyN8v8dccXqtpWCotDlKWQtv",
      "include_colab_link": true
    },
    "kernelspec": {
      "name": "python3",
      "display_name": "Python 3"
    },
    "language_info": {
      "name": "python"
    }
  },
  "cells": [
    {
      "cell_type": "markdown",
      "metadata": {
        "id": "view-in-github",
        "colab_type": "text"
      },
      "source": [
        "<a href=\"https://colab.research.google.com/github/vsrohit/tf/blob/main/first.ipynb\" target=\"_parent\"><img src=\"https://colab.research.google.com/assets/colab-badge.svg\" alt=\"Open In Colab\"/></a>"
      ]
    },
    {
      "cell_type": "markdown",
      "source": [
        "# My first colab\n",
        "\n",
        "Goal: Learn colab features"
      ],
      "metadata": {
        "id": "VQ_MASRqBUEJ"
      }
    },
    {
      "cell_type": "code",
      "execution_count": 1,
      "metadata": {
        "colab": {
          "base_uri": "https://localhost:8080/"
        },
        "id": "aBq5DwhPBJ0B",
        "outputId": "e2b5f5cc-0d48-4a06-aa69-b1f86b7c5dbb"
      },
      "outputs": [
        {
          "output_type": "stream",
          "name": "stdout",
          "text": [
            "Hello, World!\n",
            "\n"
          ]
        }
      ],
      "source": [
        "print(\"Hello, World!\\n\")"
      ]
    },
    {
      "cell_type": "markdown",
      "source": [
        "## Check TensorFlow version\n"
      ],
      "metadata": {
        "id": "eHV6ainZDYaY"
      }
    },
    {
      "cell_type": "code",
      "source": [
        "import tensorflow as tf\n",
        "print(tf.__version__)"
      ],
      "metadata": {
        "colab": {
          "base_uri": "https://localhost:8080/"
        },
        "id": "g6jKCW0CDd2R",
        "outputId": "b8c94bbc-ccef-4b26-d2b9-728718b9fe13"
      },
      "execution_count": 2,
      "outputs": [
        {
          "output_type": "stream",
          "name": "stdout",
          "text": [
            "2.7.0\n"
          ]
        }
      ]
    },
    {
      "cell_type": "markdown",
      "source": [
        "## Install a specific TensorFlow version"
      ],
      "metadata": {
        "id": "6YZk9nQvD84W"
      }
    },
    {
      "cell_type": "code",
      "source": [
        "!pip install tensorflow=2.8.0"
      ],
      "metadata": {
        "id": "Ml8bRVcSEHk-"
      },
      "execution_count": null,
      "outputs": []
    },
    {
      "cell_type": "markdown",
      "source": [
        "## Hello, World of ML\n",
        "Goal: Given the points on a line, find it's equation using ML. "
      ],
      "metadata": {
        "id": "yQPn6BCmEfVQ"
      }
    },
    {
      "cell_type": "code",
      "source": [
        "# Import the libraries\n",
        "import tensorflow as tf\n",
        "import numpy as np\n",
        "from tensorflow.keras import Sequential\n",
        "from tensorflow.keras.layers import Dense\n",
        "\n",
        "# Represent the given points (input) using numpy\n",
        "X = np.array([-1.0, 0.0, 1.0, 2.0, 3.0, 4.0], dtype=float)\n",
        "Y = np.array([-3.0, -1.0, 1.0, 3.0, 5.0, 7.0], dtype=float)\n",
        "\n",
        "# Define the model\n",
        "model = Sequential([Dense(units=1, input_shape=[1])])\n",
        "model.compile(optimizer='sgd', loss='mean_squared_error')\n",
        "\n",
        "# Fit the model\n",
        "model.fit(X, Y, epochs=500)\n",
        "\n",
        "# Predict the value of y for x = 10.0\n",
        "print(model.predict([10.0]))"
      ],
      "metadata": {
        "id": "5B5AV120Fyth"
      },
      "execution_count": null,
      "outputs": []
    },
    {
      "cell_type": "markdown",
      "source": [
        "# Weights and bias in a neuron"
      ],
      "metadata": {
        "id": "eISSm4v-IexW"
      }
    },
    {
      "cell_type": "code",
      "source": [
        "# Import the libraries\n",
        "import tensorflow as tf\n",
        "import numpy as np\n",
        "from tensorflow.keras import Sequential\n",
        "from tensorflow.keras.layers import Dense\n",
        "\n",
        "# Represent the given points (input) using numpy\n",
        "X = np.array([-1.0, 0.0, 1.0, 2.0, 3.0, 4.0], dtype=float)\n",
        "Y = np.array([-3.0, -1.0, 1.0, 3.0, 5.0, 7.0], dtype=float)\n",
        "\n",
        "# Define the model\n",
        "l0 = Dense(units=1, input_shape=[1])\n",
        "model = Sequential([l0])\n",
        "model.compile(optimizer='sgd', loss='mean_squared_error')\n",
        "\n",
        "# Fit the model\n",
        "model.fit(X, Y, epochs=500)\n",
        "\n",
        "# Predict the value of y for x = 10.0\n",
        "print(model.predict([10.0]))\n",
        "print(f\"Here is what I learnt: {l0.get_weights()}\")"
      ],
      "metadata": {
        "id": "VUyyULOcvNLI"
      },
      "execution_count": null,
      "outputs": []
    }
  ]
}